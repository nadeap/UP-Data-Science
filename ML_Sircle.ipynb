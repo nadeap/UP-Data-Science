{
  "nbformat": 4,
  "nbformat_minor": 0,
  "metadata": {
    "colab": {
      "provenance": []
    },
    "kernelspec": {
      "name": "python3",
      "display_name": "Python 3"
    },
    "language_info": {
      "name": "python"
    }
  },
  "cells": [
    {
      "cell_type": "markdown",
      "source": [
        "# This is program machine learning (IPM Classification) for Study Date Sircle Research and Development Faculty of Informatics"
      ],
      "metadata": {
        "id": "-XTrz4GsO4eK"
      }
    },
    {
      "cell_type": "markdown",
      "source": [
        "## Problem Scooping"
      ],
      "metadata": {
        "id": "IJe_VLhDQEW5"
      }
    },
    {
      "cell_type": "markdown",
      "source": [
        "ini jelasin aja permasalahannya apa. Contoh:\n",
        "\n",
        "IPM berpengaruh terhadap kondisi negara Indonesia. Penjabaran Latar belakang, Rumusan masalah dkk"
      ],
      "metadata": {
        "id": "JfVzbf76QSpf"
      }
    },
    {
      "cell_type": "markdown",
      "source": [
        "## Data Acquistion"
      ],
      "metadata": {
        "id": "0TSKlfzcQjZq"
      }
    },
    {
      "cell_type": "code",
      "execution_count": null,
      "metadata": {
        "colab": {
          "base_uri": "https://localhost:8080/"
        },
        "id": "3HxFMr-ROStE",
        "outputId": "282fccf0-84d6-4b70-d4aa-3d3b13747561"
      },
      "outputs": [
        {
          "output_type": "stream",
          "name": "stdout",
          "text": [
            "Mounted at /content/drive\n"
          ]
        }
      ],
      "source": [
        "from google.colab import drive\n",
        "drive.mount('/content/drive')"
      ]
    },
    {
      "cell_type": "code",
      "source": [
        "import pandas as pd\n",
        "import numpy as np\n",
        "import seaborn as sns"
      ],
      "metadata": {
        "id": "5c55W5M_Qp5p"
      },
      "execution_count": null,
      "outputs": []
    },
    {
      "cell_type": "code",
      "source": [
        "data = pd.read_csv('/content/drive/My Drive/dataset/ipm.csv')\n",
        "data.head()"
      ],
      "metadata": {
        "colab": {
          "base_uri": "https://localhost:8080/",
          "height": 206
        },
        "id": "lnm7ZeX3Q6hB",
        "outputId": "60a2b970-eda3-4a6b-9b97-cb41fa0f1555"
      },
      "execution_count": null,
      "outputs": [
        {
          "output_type": "execute_result",
          "data": {
            "text/plain": [
              "   Harapan_Lama_Sekolah  Pengeluaran_Perkapita  Rerata_Lama_Sekolah  \\\n",
              "0                 14.36                   9572                 9.37   \n",
              "1                 13.90                   7148                 9.48   \n",
              "2                 14.32                   8776                 8.68   \n",
              "3                 14.60                   8180                 8.88   \n",
              "4                 14.01                   8030                 9.67   \n",
              "\n",
              "   Usia_Harapan_Hidup     IPM  \n",
              "0               69.96    High  \n",
              "1               65.28  Normal  \n",
              "2               67.43  Normal  \n",
              "3               64.40  Normal  \n",
              "4               68.22  Normal  "
            ],
            "text/html": [
              "\n",
              "  <div id=\"df-89e37175-ceb2-4910-9f99-829a8b7dfe72\">\n",
              "    <div class=\"colab-df-container\">\n",
              "      <div>\n",
              "<style scoped>\n",
              "    .dataframe tbody tr th:only-of-type {\n",
              "        vertical-align: middle;\n",
              "    }\n",
              "\n",
              "    .dataframe tbody tr th {\n",
              "        vertical-align: top;\n",
              "    }\n",
              "\n",
              "    .dataframe thead th {\n",
              "        text-align: right;\n",
              "    }\n",
              "</style>\n",
              "<table border=\"1\" class=\"dataframe\">\n",
              "  <thead>\n",
              "    <tr style=\"text-align: right;\">\n",
              "      <th></th>\n",
              "      <th>Harapan_Lama_Sekolah</th>\n",
              "      <th>Pengeluaran_Perkapita</th>\n",
              "      <th>Rerata_Lama_Sekolah</th>\n",
              "      <th>Usia_Harapan_Hidup</th>\n",
              "      <th>IPM</th>\n",
              "    </tr>\n",
              "  </thead>\n",
              "  <tbody>\n",
              "    <tr>\n",
              "      <th>0</th>\n",
              "      <td>14.36</td>\n",
              "      <td>9572</td>\n",
              "      <td>9.37</td>\n",
              "      <td>69.96</td>\n",
              "      <td>High</td>\n",
              "    </tr>\n",
              "    <tr>\n",
              "      <th>1</th>\n",
              "      <td>13.90</td>\n",
              "      <td>7148</td>\n",
              "      <td>9.48</td>\n",
              "      <td>65.28</td>\n",
              "      <td>Normal</td>\n",
              "    </tr>\n",
              "    <tr>\n",
              "      <th>2</th>\n",
              "      <td>14.32</td>\n",
              "      <td>8776</td>\n",
              "      <td>8.68</td>\n",
              "      <td>67.43</td>\n",
              "      <td>Normal</td>\n",
              "    </tr>\n",
              "    <tr>\n",
              "      <th>3</th>\n",
              "      <td>14.60</td>\n",
              "      <td>8180</td>\n",
              "      <td>8.88</td>\n",
              "      <td>64.40</td>\n",
              "      <td>Normal</td>\n",
              "    </tr>\n",
              "    <tr>\n",
              "      <th>4</th>\n",
              "      <td>14.01</td>\n",
              "      <td>8030</td>\n",
              "      <td>9.67</td>\n",
              "      <td>68.22</td>\n",
              "      <td>Normal</td>\n",
              "    </tr>\n",
              "  </tbody>\n",
              "</table>\n",
              "</div>\n",
              "      <button class=\"colab-df-convert\" onclick=\"convertToInteractive('df-89e37175-ceb2-4910-9f99-829a8b7dfe72')\"\n",
              "              title=\"Convert this dataframe to an interactive table.\"\n",
              "              style=\"display:none;\">\n",
              "        \n",
              "  <svg xmlns=\"http://www.w3.org/2000/svg\" height=\"24px\"viewBox=\"0 0 24 24\"\n",
              "       width=\"24px\">\n",
              "    <path d=\"M0 0h24v24H0V0z\" fill=\"none\"/>\n",
              "    <path d=\"M18.56 5.44l.94 2.06.94-2.06 2.06-.94-2.06-.94-.94-2.06-.94 2.06-2.06.94zm-11 1L8.5 8.5l.94-2.06 2.06-.94-2.06-.94L8.5 2.5l-.94 2.06-2.06.94zm10 10l.94 2.06.94-2.06 2.06-.94-2.06-.94-.94-2.06-.94 2.06-2.06.94z\"/><path d=\"M17.41 7.96l-1.37-1.37c-.4-.4-.92-.59-1.43-.59-.52 0-1.04.2-1.43.59L10.3 9.45l-7.72 7.72c-.78.78-.78 2.05 0 2.83L4 21.41c.39.39.9.59 1.41.59.51 0 1.02-.2 1.41-.59l7.78-7.78 2.81-2.81c.8-.78.8-2.07 0-2.86zM5.41 20L4 18.59l7.72-7.72 1.47 1.35L5.41 20z\"/>\n",
              "  </svg>\n",
              "      </button>\n",
              "      \n",
              "  <style>\n",
              "    .colab-df-container {\n",
              "      display:flex;\n",
              "      flex-wrap:wrap;\n",
              "      gap: 12px;\n",
              "    }\n",
              "\n",
              "    .colab-df-convert {\n",
              "      background-color: #E8F0FE;\n",
              "      border: none;\n",
              "      border-radius: 50%;\n",
              "      cursor: pointer;\n",
              "      display: none;\n",
              "      fill: #1967D2;\n",
              "      height: 32px;\n",
              "      padding: 0 0 0 0;\n",
              "      width: 32px;\n",
              "    }\n",
              "\n",
              "    .colab-df-convert:hover {\n",
              "      background-color: #E2EBFA;\n",
              "      box-shadow: 0px 1px 2px rgba(60, 64, 67, 0.3), 0px 1px 3px 1px rgba(60, 64, 67, 0.15);\n",
              "      fill: #174EA6;\n",
              "    }\n",
              "\n",
              "    [theme=dark] .colab-df-convert {\n",
              "      background-color: #3B4455;\n",
              "      fill: #D2E3FC;\n",
              "    }\n",
              "\n",
              "    [theme=dark] .colab-df-convert:hover {\n",
              "      background-color: #434B5C;\n",
              "      box-shadow: 0px 1px 3px 1px rgba(0, 0, 0, 0.15);\n",
              "      filter: drop-shadow(0px 1px 2px rgba(0, 0, 0, 0.3));\n",
              "      fill: #FFFFFF;\n",
              "    }\n",
              "  </style>\n",
              "\n",
              "      <script>\n",
              "        const buttonEl =\n",
              "          document.querySelector('#df-89e37175-ceb2-4910-9f99-829a8b7dfe72 button.colab-df-convert');\n",
              "        buttonEl.style.display =\n",
              "          google.colab.kernel.accessAllowed ? 'block' : 'none';\n",
              "\n",
              "        async function convertToInteractive(key) {\n",
              "          const element = document.querySelector('#df-89e37175-ceb2-4910-9f99-829a8b7dfe72');\n",
              "          const dataTable =\n",
              "            await google.colab.kernel.invokeFunction('convertToInteractive',\n",
              "                                                     [key], {});\n",
              "          if (!dataTable) return;\n",
              "\n",
              "          const docLinkHtml = 'Like what you see? Visit the ' +\n",
              "            '<a target=\"_blank\" href=https://colab.research.google.com/notebooks/data_table.ipynb>data table notebook</a>'\n",
              "            + ' to learn more about interactive tables.';\n",
              "          element.innerHTML = '';\n",
              "          dataTable['output_type'] = 'display_data';\n",
              "          await google.colab.output.renderOutput(dataTable, element);\n",
              "          const docLink = document.createElement('div');\n",
              "          docLink.innerHTML = docLinkHtml;\n",
              "          element.appendChild(docLink);\n",
              "        }\n",
              "      </script>\n",
              "    </div>\n",
              "  </div>\n",
              "  "
            ]
          },
          "metadata": {},
          "execution_count": 4
        }
      ]
    },
    {
      "cell_type": "markdown",
      "source": [
        "## Data Exploration"
      ],
      "metadata": {
        "id": "uCt_xorgRaVm"
      }
    },
    {
      "cell_type": "code",
      "source": [
        "data.shape"
      ],
      "metadata": {
        "colab": {
          "base_uri": "https://localhost:8080/"
        },
        "id": "yKP3MSPeRASw",
        "outputId": "9f3577fe-4e5e-4168-95b9-b693b819a04e"
      },
      "execution_count": null,
      "outputs": [
        {
          "output_type": "execute_result",
          "data": {
            "text/plain": [
              "(2196, 5)"
            ]
          },
          "metadata": {},
          "execution_count": 5
        }
      ]
    },
    {
      "cell_type": "code",
      "source": [
        "data.info()"
      ],
      "metadata": {
        "colab": {
          "base_uri": "https://localhost:8080/"
        },
        "id": "hGFw3GgTRDwt",
        "outputId": "968be771-0c88-464a-b9b5-ab4b48e00e3b"
      },
      "execution_count": null,
      "outputs": [
        {
          "output_type": "stream",
          "name": "stdout",
          "text": [
            "<class 'pandas.core.frame.DataFrame'>\n",
            "RangeIndex: 2196 entries, 0 to 2195\n",
            "Data columns (total 5 columns):\n",
            " #   Column                 Non-Null Count  Dtype  \n",
            "---  ------                 --------------  -----  \n",
            " 0   Harapan_Lama_Sekolah   2196 non-null   float64\n",
            " 1   Pengeluaran_Perkapita  2196 non-null   int64  \n",
            " 2   Rerata_Lama_Sekolah    2196 non-null   float64\n",
            " 3   Usia_Harapan_Hidup     2196 non-null   float64\n",
            " 4   IPM                    2196 non-null   object \n",
            "dtypes: float64(3), int64(1), object(1)\n",
            "memory usage: 85.9+ KB\n"
          ]
        }
      ]
    },
    {
      "cell_type": "code",
      "source": [
        "data.describe().T"
      ],
      "metadata": {
        "colab": {
          "base_uri": "https://localhost:8080/",
          "height": 175
        },
        "id": "K3BwX9dCRFEW",
        "outputId": "6d0da5ea-a1f8-4310-cd51-7310986a7459"
      },
      "execution_count": null,
      "outputs": [
        {
          "output_type": "execute_result",
          "data": {
            "text/plain": [
              "                        count          mean          std      min      25%  \\\n",
              "Harapan_Lama_Sekolah   2196.0     12.931498     1.312967     2.95    12.35   \n",
              "Pengeluaran_Perkapita  2196.0  10323.144353  2664.738311  3975.00  8599.75   \n",
              "Rerata_Lama_Sekolah    2196.0      8.291585     1.611256     0.85     7.39   \n",
              "Usia_Harapan_Hidup     2196.0     69.467418     3.437536    54.82    67.21   \n",
              "\n",
              "                             50%         75%       max  \n",
              "Harapan_Lama_Sekolah      12.860     13.5700     17.80  \n",
              "Pengeluaran_Perkapita  10192.500  11670.5000  23888.00  \n",
              "Rerata_Lama_Sekolah        8.180      9.1800     12.83  \n",
              "Usia_Harapan_Hidup        69.785     71.7125     77.73  "
            ],
            "text/html": [
              "\n",
              "  <div id=\"df-b8dc6996-4f91-478f-8ac1-6ae98b3bf738\">\n",
              "    <div class=\"colab-df-container\">\n",
              "      <div>\n",
              "<style scoped>\n",
              "    .dataframe tbody tr th:only-of-type {\n",
              "        vertical-align: middle;\n",
              "    }\n",
              "\n",
              "    .dataframe tbody tr th {\n",
              "        vertical-align: top;\n",
              "    }\n",
              "\n",
              "    .dataframe thead th {\n",
              "        text-align: right;\n",
              "    }\n",
              "</style>\n",
              "<table border=\"1\" class=\"dataframe\">\n",
              "  <thead>\n",
              "    <tr style=\"text-align: right;\">\n",
              "      <th></th>\n",
              "      <th>count</th>\n",
              "      <th>mean</th>\n",
              "      <th>std</th>\n",
              "      <th>min</th>\n",
              "      <th>25%</th>\n",
              "      <th>50%</th>\n",
              "      <th>75%</th>\n",
              "      <th>max</th>\n",
              "    </tr>\n",
              "  </thead>\n",
              "  <tbody>\n",
              "    <tr>\n",
              "      <th>Harapan_Lama_Sekolah</th>\n",
              "      <td>2196.0</td>\n",
              "      <td>12.931498</td>\n",
              "      <td>1.312967</td>\n",
              "      <td>2.95</td>\n",
              "      <td>12.35</td>\n",
              "      <td>12.860</td>\n",
              "      <td>13.5700</td>\n",
              "      <td>17.80</td>\n",
              "    </tr>\n",
              "    <tr>\n",
              "      <th>Pengeluaran_Perkapita</th>\n",
              "      <td>2196.0</td>\n",
              "      <td>10323.144353</td>\n",
              "      <td>2664.738311</td>\n",
              "      <td>3975.00</td>\n",
              "      <td>8599.75</td>\n",
              "      <td>10192.500</td>\n",
              "      <td>11670.5000</td>\n",
              "      <td>23888.00</td>\n",
              "    </tr>\n",
              "    <tr>\n",
              "      <th>Rerata_Lama_Sekolah</th>\n",
              "      <td>2196.0</td>\n",
              "      <td>8.291585</td>\n",
              "      <td>1.611256</td>\n",
              "      <td>0.85</td>\n",
              "      <td>7.39</td>\n",
              "      <td>8.180</td>\n",
              "      <td>9.1800</td>\n",
              "      <td>12.83</td>\n",
              "    </tr>\n",
              "    <tr>\n",
              "      <th>Usia_Harapan_Hidup</th>\n",
              "      <td>2196.0</td>\n",
              "      <td>69.467418</td>\n",
              "      <td>3.437536</td>\n",
              "      <td>54.82</td>\n",
              "      <td>67.21</td>\n",
              "      <td>69.785</td>\n",
              "      <td>71.7125</td>\n",
              "      <td>77.73</td>\n",
              "    </tr>\n",
              "  </tbody>\n",
              "</table>\n",
              "</div>\n",
              "      <button class=\"colab-df-convert\" onclick=\"convertToInteractive('df-b8dc6996-4f91-478f-8ac1-6ae98b3bf738')\"\n",
              "              title=\"Convert this dataframe to an interactive table.\"\n",
              "              style=\"display:none;\">\n",
              "        \n",
              "  <svg xmlns=\"http://www.w3.org/2000/svg\" height=\"24px\"viewBox=\"0 0 24 24\"\n",
              "       width=\"24px\">\n",
              "    <path d=\"M0 0h24v24H0V0z\" fill=\"none\"/>\n",
              "    <path d=\"M18.56 5.44l.94 2.06.94-2.06 2.06-.94-2.06-.94-.94-2.06-.94 2.06-2.06.94zm-11 1L8.5 8.5l.94-2.06 2.06-.94-2.06-.94L8.5 2.5l-.94 2.06-2.06.94zm10 10l.94 2.06.94-2.06 2.06-.94-2.06-.94-.94-2.06-.94 2.06-2.06.94z\"/><path d=\"M17.41 7.96l-1.37-1.37c-.4-.4-.92-.59-1.43-.59-.52 0-1.04.2-1.43.59L10.3 9.45l-7.72 7.72c-.78.78-.78 2.05 0 2.83L4 21.41c.39.39.9.59 1.41.59.51 0 1.02-.2 1.41-.59l7.78-7.78 2.81-2.81c.8-.78.8-2.07 0-2.86zM5.41 20L4 18.59l7.72-7.72 1.47 1.35L5.41 20z\"/>\n",
              "  </svg>\n",
              "      </button>\n",
              "      \n",
              "  <style>\n",
              "    .colab-df-container {\n",
              "      display:flex;\n",
              "      flex-wrap:wrap;\n",
              "      gap: 12px;\n",
              "    }\n",
              "\n",
              "    .colab-df-convert {\n",
              "      background-color: #E8F0FE;\n",
              "      border: none;\n",
              "      border-radius: 50%;\n",
              "      cursor: pointer;\n",
              "      display: none;\n",
              "      fill: #1967D2;\n",
              "      height: 32px;\n",
              "      padding: 0 0 0 0;\n",
              "      width: 32px;\n",
              "    }\n",
              "\n",
              "    .colab-df-convert:hover {\n",
              "      background-color: #E2EBFA;\n",
              "      box-shadow: 0px 1px 2px rgba(60, 64, 67, 0.3), 0px 1px 3px 1px rgba(60, 64, 67, 0.15);\n",
              "      fill: #174EA6;\n",
              "    }\n",
              "\n",
              "    [theme=dark] .colab-df-convert {\n",
              "      background-color: #3B4455;\n",
              "      fill: #D2E3FC;\n",
              "    }\n",
              "\n",
              "    [theme=dark] .colab-df-convert:hover {\n",
              "      background-color: #434B5C;\n",
              "      box-shadow: 0px 1px 3px 1px rgba(0, 0, 0, 0.15);\n",
              "      filter: drop-shadow(0px 1px 2px rgba(0, 0, 0, 0.3));\n",
              "      fill: #FFFFFF;\n",
              "    }\n",
              "  </style>\n",
              "\n",
              "      <script>\n",
              "        const buttonEl =\n",
              "          document.querySelector('#df-b8dc6996-4f91-478f-8ac1-6ae98b3bf738 button.colab-df-convert');\n",
              "        buttonEl.style.display =\n",
              "          google.colab.kernel.accessAllowed ? 'block' : 'none';\n",
              "\n",
              "        async function convertToInteractive(key) {\n",
              "          const element = document.querySelector('#df-b8dc6996-4f91-478f-8ac1-6ae98b3bf738');\n",
              "          const dataTable =\n",
              "            await google.colab.kernel.invokeFunction('convertToInteractive',\n",
              "                                                     [key], {});\n",
              "          if (!dataTable) return;\n",
              "\n",
              "          const docLinkHtml = 'Like what you see? Visit the ' +\n",
              "            '<a target=\"_blank\" href=https://colab.research.google.com/notebooks/data_table.ipynb>data table notebook</a>'\n",
              "            + ' to learn more about interactive tables.';\n",
              "          element.innerHTML = '';\n",
              "          dataTable['output_type'] = 'display_data';\n",
              "          await google.colab.output.renderOutput(dataTable, element);\n",
              "          const docLink = document.createElement('div');\n",
              "          docLink.innerHTML = docLinkHtml;\n",
              "          element.appendChild(docLink);\n",
              "        }\n",
              "      </script>\n",
              "    </div>\n",
              "  </div>\n",
              "  "
            ]
          },
          "metadata": {},
          "execution_count": 10
        }
      ]
    },
    {
      "cell_type": "code",
      "source": [
        "data.isnull().sum()"
      ],
      "metadata": {
        "colab": {
          "base_uri": "https://localhost:8080/"
        },
        "id": "kVTsnpXpRHIh",
        "outputId": "cac27da0-9b4c-495f-a772-23df6a18bada"
      },
      "execution_count": null,
      "outputs": [
        {
          "output_type": "execute_result",
          "data": {
            "text/plain": [
              "Harapan_Lama_Sekolah     0\n",
              "Pengeluaran_Perkapita    0\n",
              "Rerata_Lama_Sekolah      0\n",
              "Usia_Harapan_Hidup       0\n",
              "IPM                      0\n",
              "dtype: int64"
            ]
          },
          "metadata": {},
          "execution_count": 11
        }
      ]
    },
    {
      "cell_type": "code",
      "source": [
        "data['IPM'].value_counts()"
      ],
      "metadata": {
        "colab": {
          "base_uri": "https://localhost:8080/"
        },
        "id": "_pJCEGi6RPRI",
        "outputId": "a96cc8fb-b900-427a-a8b1-f2ddaa398012"
      },
      "execution_count": null,
      "outputs": [
        {
          "output_type": "execute_result",
          "data": {
            "text/plain": [
              "Normal       1128\n",
              "High          829\n",
              "Very-High     146\n",
              "Low            93\n",
              "Name: IPM, dtype: int64"
            ]
          },
          "metadata": {},
          "execution_count": 12
        }
      ]
    },
    {
      "cell_type": "code",
      "source": [
        "sns.countplot(data['IPM']) "
      ],
      "metadata": {
        "colab": {
          "base_uri": "https://localhost:8080/",
          "height": 354
        },
        "id": "bLdTd5kQRjtO",
        "outputId": "0dc3cba7-028c-4ed1-b30e-dbeb7ce3c90b"
      },
      "execution_count": null,
      "outputs": [
        {
          "output_type": "stream",
          "name": "stderr",
          "text": [
            "/usr/local/lib/python3.8/dist-packages/seaborn/_decorators.py:36: FutureWarning: Pass the following variable as a keyword arg: x. From version 0.12, the only valid positional argument will be `data`, and passing other arguments without an explicit keyword will result in an error or misinterpretation.\n",
            "  warnings.warn(\n"
          ]
        },
        {
          "output_type": "execute_result",
          "data": {
            "text/plain": [
              "<matplotlib.axes._subplots.AxesSubplot at 0x7fda470fbb50>"
            ]
          },
          "metadata": {},
          "execution_count": 13
        },
        {
          "output_type": "display_data",
          "data": {
            "text/plain": [
              "<Figure size 432x288 with 1 Axes>"
            ],
            "image/png": "[encoded data removed]"
          },
          "metadata": {
            "needs_background": "light"
          }
        }
      ]
    },
    {
      "cell_type": "code",
      "source": [
        "sns.heatmap(data.corr(),annot=True) #annot untuk menampilkan nilai dalam kotaknya"
      ],
      "metadata": {
        "colab": {
          "base_uri": "https://localhost:8080/",
          "height": 396
        },
        "id": "N1cDhn_oRm8T",
        "outputId": "cfbd150c-a78a-4bcf-cd5d-7e3d5c1d92f6"
      },
      "execution_count": null,
      "outputs": [
        {
          "output_type": "execute_result",
          "data": {
            "text/plain": [
              "<matplotlib.axes._subplots.AxesSubplot at 0x7fda46b88580>"
            ]
          },
          "metadata": {},
          "execution_count": 15
        },
        {
          "output_type": "display_data",
          "data": {
            "text/plain": [
              "<Figure size 432x288 with 2 Axes>"
            ],
            "image/png": "[encoded data removed]"
          },
          "metadata": {
            "needs_background": "light"
          }
        }
      ]
    },
    {
      "cell_type": "markdown",
      "source": [
        "### Declire Dataset"
      ],
      "metadata": {
        "id": "66Dn4dorSlQ-"
      }
    },
    {
      "cell_type": "code",
      "source": [
        "x = data.drop(columns='IPM', axis=1)\n",
        "y = data['IPM']"
      ],
      "metadata": {
        "id": "dSRkC_zZSZ_I"
      },
      "execution_count": null,
      "outputs": []
    },
    {
      "cell_type": "code",
      "source": [
        "x.head()"
      ],
      "metadata": {
        "colab": {
          "base_uri": "https://localhost:8080/",
          "height": 206
        },
        "id": "X5Or6zSrS1CD",
        "outputId": "095f84b7-5b21-4713-b6a9-c0327ace4ed0"
      },
      "execution_count": null,
      "outputs": [
        {
          "output_type": "execute_result",
          "data": {
            "text/plain": [
              "   Harapan_Lama_Sekolah  Pengeluaran_Perkapita  Rerata_Lama_Sekolah  \\\n",
              "0                 14.36                   9572                 9.37   \n",
              "1                 13.90                   7148                 9.48   \n",
              "2                 14.32                   8776                 8.68   \n",
              "3                 14.60                   8180                 8.88   \n",
              "4                 14.01                   8030                 9.67   \n",
              "\n",
              "   Usia_Harapan_Hidup  \n",
              "0               69.96  \n",
              "1               65.28  \n",
              "2               67.43  \n",
              "3               64.40  \n",
              "4               68.22  "
            ],
            "text/html": [
              "\n",
              "  <div id=\"df-25ddd0a9-59fa-48b0-a77f-cb474bfa4be2\">\n",
              "    <div class=\"colab-df-container\">\n",
              "      <div>\n",
              "<style scoped>\n",
              "    .dataframe tbody tr th:only-of-type {\n",
              "        vertical-align: middle;\n",
              "    }\n",
              "\n",
              "    .dataframe tbody tr th {\n",
              "        vertical-align: top;\n",
              "    }\n",
              "\n",
              "    .dataframe thead th {\n",
              "        text-align: right;\n",
              "    }\n",
              "</style>\n",
              "<table border=\"1\" class=\"dataframe\">\n",
              "  <thead>\n",
              "    <tr style=\"text-align: right;\">\n",
              "      <th></th>\n",
              "      <th>Harapan_Lama_Sekolah</th>\n",
              "      <th>Pengeluaran_Perkapita</th>\n",
              "      <th>Rerata_Lama_Sekolah</th>\n",
              "      <th>Usia_Harapan_Hidup</th>\n",
              "    </tr>\n",
              "  </thead>\n",
              "  <tbody>\n",
              "    <tr>\n",
              "      <th>0</th>\n",
              "      <td>14.36</td>\n",
              "      <td>9572</td>\n",
              "      <td>9.37</td>\n",
              "      <td>69.96</td>\n",
              "    </tr>\n",
              "    <tr>\n",
              "      <th>1</th>\n",
              "      <td>13.90</td>\n",
              "      <td>7148</td>\n",
              "      <td>9.48</td>\n",
              "      <td>65.28</td>\n",
              "    </tr>\n",
              "    <tr>\n",
              "      <th>2</th>\n",
              "      <td>14.32</td>\n",
              "      <td>8776</td>\n",
              "      <td>8.68</td>\n",
              "      <td>67.43</td>\n",
              "    </tr>\n",
              "    <tr>\n",
              "      <th>3</th>\n",
              "      <td>14.60</td>\n",
              "      <td>8180</td>\n",
              "      <td>8.88</td>\n",
              "      <td>64.40</td>\n",
              "    </tr>\n",
              "    <tr>\n",
              "      <th>4</th>\n",
              "      <td>14.01</td>\n",
              "      <td>8030</td>\n",
              "      <td>9.67</td>\n",
              "      <td>68.22</td>\n",
              "    </tr>\n",
              "  </tbody>\n",
              "</table>\n",
              "</div>\n",
              "      <button class=\"colab-df-convert\" onclick=\"convertToInteractive('df-25ddd0a9-59fa-48b0-a77f-cb474bfa4be2')\"\n",
              "              title=\"Convert this dataframe to an interactive table.\"\n",
              "              style=\"display:none;\">\n",
              "        \n",
              "  <svg xmlns=\"http://www.w3.org/2000/svg\" height=\"24px\"viewBox=\"0 0 24 24\"\n",
              "       width=\"24px\">\n",
              "    <path d=\"M0 0h24v24H0V0z\" fill=\"none\"/>\n",
              "    <path d=\"M18.56 5.44l.94 2.06.94-2.06 2.06-.94-2.06-.94-.94-2.06-.94 2.06-2.06.94zm-11 1L8.5 8.5l.94-2.06 2.06-.94-2.06-.94L8.5 2.5l-.94 2.06-2.06.94zm10 10l.94 2.06.94-2.06 2.06-.94-2.06-.94-.94-2.06-.94 2.06-2.06.94z\"/><path d=\"M17.41 7.96l-1.37-1.37c-.4-.4-.92-.59-1.43-.59-.52 0-1.04.2-1.43.59L10.3 9.45l-7.72 7.72c-.78.78-.78 2.05 0 2.83L4 21.41c.39.39.9.59 1.41.59.51 0 1.02-.2 1.41-.59l7.78-7.78 2.81-2.81c.8-.78.8-2.07 0-2.86zM5.41 20L4 18.59l7.72-7.72 1.47 1.35L5.41 20z\"/>\n",
              "  </svg>\n",
              "      </button>\n",
              "      \n",
              "  <style>\n",
              "    .colab-df-container {\n",
              "      display:flex;\n",
              "      flex-wrap:wrap;\n",
              "      gap: 12px;\n",
              "    }\n",
              "\n",
              "    .colab-df-convert {\n",
              "      background-color: #E8F0FE;\n",
              "      border: none;\n",
              "      border-radius: 50%;\n",
              "      cursor: pointer;\n",
              "      display: none;\n",
              "      fill: #1967D2;\n",
              "      height: 32px;\n",
              "      padding: 0 0 0 0;\n",
              "      width: 32px;\n",
              "    }\n",
              "\n",
              "    .colab-df-convert:hover {\n",
              "      background-color: #E2EBFA;\n",
              "      box-shadow: 0px 1px 2px rgba(60, 64, 67, 0.3), 0px 1px 3px 1px rgba(60, 64, 67, 0.15);\n",
              "      fill: #174EA6;\n",
              "    }\n",
              "\n",
              "    [theme=dark] .colab-df-convert {\n",
              "      background-color: #3B4455;\n",
              "      fill: #D2E3FC;\n",
              "    }\n",
              "\n",
              "    [theme=dark] .colab-df-convert:hover {\n",
              "      background-color: #434B5C;\n",
              "      box-shadow: 0px 1px 3px 1px rgba(0, 0, 0, 0.15);\n",
              "      filter: drop-shadow(0px 1px 2px rgba(0, 0, 0, 0.3));\n",
              "      fill: #FFFFFF;\n",
              "    }\n",
              "  </style>\n",
              "\n",
              "      <script>\n",
              "        const buttonEl =\n",
              "          document.querySelector('#df-25ddd0a9-59fa-48b0-a77f-cb474bfa4be2 button.colab-df-convert');\n",
              "        buttonEl.style.display =\n",
              "          google.colab.kernel.accessAllowed ? 'block' : 'none';\n",
              "\n",
              "        async function convertToInteractive(key) {\n",
              "          const element = document.querySelector('#df-25ddd0a9-59fa-48b0-a77f-cb474bfa4be2');\n",
              "          const dataTable =\n",
              "            await google.colab.kernel.invokeFunction('convertToInteractive',\n",
              "                                                     [key], {});\n",
              "          if (!dataTable) return;\n",
              "\n",
              "          const docLinkHtml = 'Like what you see? Visit the ' +\n",
              "            '<a target=\"_blank\" href=https://colab.research.google.com/notebooks/data_table.ipynb>data table notebook</a>'\n",
              "            + ' to learn more about interactive tables.';\n",
              "          element.innerHTML = '';\n",
              "          dataTable['output_type'] = 'display_data';\n",
              "          await google.colab.output.renderOutput(dataTable, element);\n",
              "          const docLink = document.createElement('div');\n",
              "          docLink.innerHTML = docLinkHtml;\n",
              "          element.appendChild(docLink);\n",
              "        }\n",
              "      </script>\n",
              "    </div>\n",
              "  </div>\n",
              "  "
            ]
          },
          "metadata": {},
          "execution_count": 17
        }
      ]
    },
    {
      "cell_type": "code",
      "source": [
        "y"
      ],
      "metadata": {
        "colab": {
          "base_uri": "https://localhost:8080/"
        },
        "id": "mCfiJgipS4Iu",
        "outputId": "32eb4d78-8d1c-4035-8e10-29820ef94659"
      },
      "execution_count": null,
      "outputs": [
        {
          "output_type": "execute_result",
          "data": {
            "text/plain": [
              "0         High\n",
              "1       Normal\n",
              "2       Normal\n",
              "3       Normal\n",
              "4       Normal\n",
              "         ...  \n",
              "2191       Low\n",
              "2192       Low\n",
              "2193       Low\n",
              "2194      High\n",
              "2195      High\n",
              "Name: IPM, Length: 2196, dtype: object"
            ]
          },
          "metadata": {},
          "execution_count": 18
        }
      ]
    },
    {
      "cell_type": "markdown",
      "source": [
        "### Split Dataset "
      ],
      "metadata": {
        "id": "CxF43LfATA3n"
      }
    },
    {
      "cell_type": "code",
      "source": [
        "from sklearn.model_selection import train_test_split"
      ],
      "metadata": {
        "id": "L5WG_vrzS5Q3"
      },
      "execution_count": null,
      "outputs": []
    },
    {
      "cell_type": "code",
      "source": [
        "x_train, x_test, y_train, y_test = train_test_split(x,y,test_size=0.25,random_state=42) #random state agar saat di run ulang, hasilnya tetap sama kyk sebelumnya"
      ],
      "metadata": {
        "id": "tx40f5S5TL40"
      },
      "execution_count": null,
      "outputs": []
    },
    {
      "cell_type": "code",
      "source": [
        "x_train.shape, x_test.shape"
      ],
      "metadata": {
        "colab": {
          "base_uri": "https://localhost:8080/"
        },
        "id": "YovS2nuRTX_A",
        "outputId": "3340bf19-d284-4b25-9330-ccc1fb680b6e"
      },
      "execution_count": null,
      "outputs": [
        {
          "output_type": "execute_result",
          "data": {
            "text/plain": [
              "((1647, 4), (549, 4))"
            ]
          },
          "metadata": {},
          "execution_count": 21
        }
      ]
    },
    {
      "cell_type": "markdown",
      "source": [
        "## Modelling"
      ],
      "metadata": {
        "id": "rrrQhLgrTdel"
      }
    },
    {
      "cell_type": "code",
      "source": [
        "from sklearn.tree import DecisionTreeClassifier\n",
        "\n",
        "dtree = DecisionTreeClassifier()\n",
        "dtree.fit(x_train, y_train)"
      ],
      "metadata": {
        "colab": {
          "base_uri": "https://localhost:8080/"
        },
        "id": "Gi-IAKHETbwJ",
        "outputId": "40355c04-58d4-43b4-dbc5-f5610f5f4a54"
      },
      "execution_count": null,
      "outputs": [
        {
          "output_type": "execute_result",
          "data": {
            "text/plain": [
              "DecisionTreeClassifier()"
            ]
          },
          "metadata": {},
          "execution_count": 22
        }
      ]
    },
    {
      "cell_type": "code",
      "source": [
        "y_pred = dtree.predict(x_test)"
      ],
      "metadata": {
        "id": "kbO2xxdaToB_"
      },
      "execution_count": null,
      "outputs": []
    },
    {
      "cell_type": "markdown",
      "source": [
        "## Evaluation"
      ],
      "metadata": {
        "id": "XCfuXfbzUHxG"
      }
    },
    {
      "cell_type": "code",
      "source": [
        "from sklearn.metrics import accuracy_score\n",
        "\n",
        "accuracy_score(y_test, y_pred)"
      ],
      "metadata": {
        "colab": {
          "base_uri": "https://localhost:8080/"
        },
        "id": "THxOaqMgTs3l",
        "outputId": "10733409-6d68-495e-e59f-2e06bfe34288"
      },
      "execution_count": null,
      "outputs": [
        {
          "output_type": "execute_result",
          "data": {
            "text/plain": [
              "0.9489981785063752"
            ]
          },
          "metadata": {},
          "execution_count": 32
        }
      ]
    },
    {
      "cell_type": "code",
      "source": [
        "from sklearn.metrics import classification_report\n",
        "\n",
        "print(classification_report(y_test, y_pred))"
      ],
      "metadata": {
        "colab": {
          "base_uri": "https://localhost:8080/"
        },
        "id": "hsmTetsMT-L7",
        "outputId": "fbb74b6c-7dd0-4b6d-b8e8-fbb41f5c9187"
      },
      "execution_count": null,
      "outputs": [
        {
          "output_type": "stream",
          "name": "stdout",
          "text": [
            "              precision    recall  f1-score   support\n",
            "\n",
            "        High       0.93      0.94      0.94       208\n",
            "         Low       1.00      0.96      0.98        24\n",
            "      Normal       0.97      0.96      0.96       276\n",
            "   Very-High       0.89      0.95      0.92        41\n",
            "\n",
            "    accuracy                           0.95       549\n",
            "   macro avg       0.95      0.95      0.95       549\n",
            "weighted avg       0.95      0.95      0.95       549\n",
            "\n"
          ]
        }
      ]
    },
    {
      "cell_type": "markdown",
      "source": [
        "## Prediksi Data Baru"
      ],
      "metadata": {
        "id": "o93neYmIUOvV"
      }
    },
    {
      "cell_type": "code",
      "source": [
        "predict = dtree.predict(np.array([[14.56,8765,8.34,64.34]]))\n",
        "predict"
      ],
      "metadata": {
        "colab": {
          "base_uri": "https://localhost:8080/"
        },
        "id": "V8XfIRMsUDh6",
        "outputId": "37a8d661-315d-48b9-8aea-bb9e533aabf2"
      },
      "execution_count": null,
      "outputs": [
        {
          "output_type": "stream",
          "name": "stderr",
          "text": [
            "/usr/local/lib/python3.8/dist-packages/sklearn/base.py:450: UserWarning: X does not have valid feature names, but DecisionTreeClassifier was fitted with feature names\n",
            "  warnings.warn(\n"
          ]
        },
        {
          "output_type": "execute_result",
          "data": {
            "text/plain": [
              "array(['Normal'], dtype=object)"
            ]
          },
          "metadata": {},
          "execution_count": 28
        }
      ]
    },
    {
      "cell_type": "code",
      "source": [
        "predict = dtree.predict(np.array([[20.56,5565,10.34,84.34]]))\n",
        "predict"
      ],
      "metadata": {
        "colab": {
          "base_uri": "https://localhost:8080/"
        },
        "id": "fP7XHJDyUTkP",
        "outputId": "2c6adc5c-0103-4b26-e10c-2f5dcc82e434"
      },
      "execution_count": null,
      "outputs": [
        {
          "output_type": "stream",
          "name": "stderr",
          "text": [
            "/usr/local/lib/python3.8/dist-packages/sklearn/base.py:450: UserWarning: X does not have valid feature names, but DecisionTreeClassifier was fitted with feature names\n",
            "  warnings.warn(\n"
          ]
        },
        {
          "output_type": "execute_result",
          "data": {
            "text/plain": [
              "array(['Low'], dtype=object)"
            ]
          },
          "metadata": {},
          "execution_count": 29
        }
      ]
    },
    {
      "cell_type": "markdown",
      "source": [
        "## Save Model Using Pickle"
      ],
      "metadata": {
        "id": "FFT2d5r9Urk7"
      }
    },
    {
      "cell_type": "code",
      "source": [
        "import pickle\n",
        "\n",
        "pickle.dump(dtree, open('model-dtree.pkl', 'wb'))"
      ],
      "metadata": {
        "id": "pjNuSDAJUc7O"
      },
      "execution_count": null,
      "outputs": []
    },
    {
      "cell_type": "code",
      "source": [
        "model = pickle.load(open('model-dtree.pkl', 'rb'))\n",
        "model.predict(x_test)"
      ],
      "metadata": {
        "colab": {
          "base_uri": "https://localhost:8080/"
        },
        "id": "4Q4NLVjbU8GV",
        "outputId": "7bb559d4-91a1-44bf-fb81-0e01382c093c"
      },
      "execution_count": null,
      "outputs": [
        {
          "output_type": "execute_result",
          "data": {
            "text/plain": [
              "array(['Normal', 'High', 'Normal', 'Normal', 'High', 'Normal', 'Low',\n",
              "       'High', 'Normal', 'High', 'Normal', 'High', 'Normal', 'High',\n",
              "       'High', 'Normal', 'Normal', 'Normal', 'Normal', 'Normal', 'Low',\n",
              "       'Normal', 'Normal', 'Normal', 'Normal', 'Normal', 'Low', 'High',\n",
              "       'High', 'High', 'Normal', 'Normal', 'Normal', 'High', 'Normal',\n",
              "       'High', 'High', 'Very-High', 'Normal', 'High', 'Normal', 'High',\n",
              "       'Normal', 'Very-High', 'Normal', 'High', 'Low', 'High', 'Normal',\n",
              "       'Normal', 'Very-High', 'Normal', 'Normal', 'High', 'Normal',\n",
              "       'Normal', 'High', 'Normal', 'High', 'Very-High', 'High', 'High',\n",
              "       'Normal', 'High', 'Normal', 'Normal', 'Normal', 'Normal', 'High',\n",
              "       'Normal', 'Normal', 'Normal', 'High', 'High', 'Normal', 'Low',\n",
              "       'Normal', 'Normal', 'Normal', 'High', 'High', 'Very-High', 'High',\n",
              "       'High', 'Normal', 'High', 'High', 'Normal', 'Normal', 'High',\n",
              "       'High', 'High', 'Normal', 'High', 'Normal', 'Normal', 'High',\n",
              "       'Normal', 'Low', 'Normal', 'Normal', 'Normal', 'Normal', 'Normal',\n",
              "       'High', 'High', 'Normal', 'Low', 'Normal', 'Normal', 'Normal',\n",
              "       'Normal', 'High', 'Normal', 'Normal', 'High', 'Normal', 'High',\n",
              "       'Normal', 'Normal', 'Normal', 'High', 'Very-High', 'Normal',\n",
              "       'High', 'High', 'Normal', 'Normal', 'Very-High', 'Very-High',\n",
              "       'High', 'Normal', 'Normal', 'High', 'High', 'Normal', 'Normal',\n",
              "       'High', 'Normal', 'Normal', 'High', 'High', 'Normal', 'Very-High',\n",
              "       'Normal', 'Normal', 'High', 'Low', 'High', 'High', 'Normal',\n",
              "       'Normal', 'High', 'Very-High', 'High', 'Very-High', 'Normal',\n",
              "       'High', 'High', 'Very-High', 'High', 'High', 'Very-High', 'High',\n",
              "       'High', 'High', 'Normal', 'Normal', 'Normal', 'Normal', 'Normal',\n",
              "       'Normal', 'High', 'Normal', 'Normal', 'High', 'Normal', 'High',\n",
              "       'High', 'High', 'Normal', 'Very-High', 'Normal', 'Normal', 'Low',\n",
              "       'Normal', 'Normal', 'Normal', 'Normal', 'Low', 'Normal', 'High',\n",
              "       'High', 'High', 'Normal', 'Normal', 'High', 'High', 'Normal',\n",
              "       'Normal', 'Normal', 'Normal', 'Low', 'Normal', 'High', 'Normal',\n",
              "       'High', 'High', 'Normal', 'High', 'High', 'High', 'Normal', 'High',\n",
              "       'High', 'Normal', 'Very-High', 'Normal', 'Normal', 'Normal',\n",
              "       'Normal', 'Normal', 'Normal', 'Normal', 'Very-High', 'Normal',\n",
              "       'High', 'High', 'Very-High', 'Normal', 'Normal', 'Normal', 'High',\n",
              "       'High', 'High', 'High', 'High', 'High', 'High', 'Normal', 'High',\n",
              "       'Normal', 'Very-High', 'Normal', 'Normal', 'High', 'Normal',\n",
              "       'High', 'Normal', 'Normal', 'High', 'High', 'High', 'Normal',\n",
              "       'High', 'High', 'Very-High', 'Low', 'High', 'Very-High', 'Normal',\n",
              "       'Normal', 'High', 'Very-High', 'High', 'Normal', 'High', 'Normal',\n",
              "       'Normal', 'Normal', 'Normal', 'Very-High', 'Very-High', 'Normal',\n",
              "       'Normal', 'High', 'High', 'Normal', 'High', 'High', 'Normal',\n",
              "       'Normal', 'Normal', 'Normal', 'High', 'Normal', 'High',\n",
              "       'Very-High', 'High', 'Normal', 'High', 'High', 'High', 'High',\n",
              "       'High', 'High', 'Normal', 'Normal', 'Normal', 'High', 'High',\n",
              "       'Normal', 'High', 'Low', 'High', 'Normal', 'Normal', 'Very-High',\n",
              "       'High', 'High', 'Very-High', 'Normal', 'High', 'High', 'Normal',\n",
              "       'High', 'High', 'Normal', 'Normal', 'Normal', 'Normal', 'High',\n",
              "       'Normal', 'Normal', 'High', 'Normal', 'Normal', 'Normal', 'Normal',\n",
              "       'High', 'High', 'Very-High', 'High', 'Normal', 'High', 'High',\n",
              "       'Normal', 'Normal', 'Normal', 'Normal', 'Normal', 'Normal',\n",
              "       'Normal', 'Normal', 'High', 'Normal', 'High', 'Normal', 'High',\n",
              "       'High', 'Normal', 'High', 'High', 'High', 'Normal', 'Very-High',\n",
              "       'Normal', 'High', 'Low', 'High', 'Normal', 'Normal', 'Normal',\n",
              "       'Normal', 'Normal', 'Normal', 'High', 'High', 'Very-High',\n",
              "       'Normal', 'Low', 'Normal', 'High', 'Normal', 'Very-High', 'Normal',\n",
              "       'High', 'Normal', 'High', 'High', 'Normal', 'High', 'Normal',\n",
              "       'Normal', 'Normal', 'Normal', 'Normal', 'High', 'High', 'High',\n",
              "       'High', 'High', 'Very-High', 'High', 'High', 'High', 'Normal',\n",
              "       'Normal', 'Very-High', 'Normal', 'High', 'Normal', 'High',\n",
              "       'Normal', 'Normal', 'High', 'Normal', 'High', 'High', 'Normal',\n",
              "       'High', 'Normal', 'High', 'Normal', 'Normal', 'Normal', 'Normal',\n",
              "       'Normal', 'Very-High', 'Normal', 'High', 'Normal', 'Normal',\n",
              "       'High', 'Normal', 'Normal', 'Normal', 'Normal', 'Normal', 'High',\n",
              "       'Normal', 'Normal', 'Normal', 'Normal', 'Very-High', 'High',\n",
              "       'Normal', 'Normal', 'Normal', 'Normal', 'Normal', 'Normal', 'High',\n",
              "       'Very-High', 'Low', 'High', 'High', 'Normal', 'High', 'Very-High',\n",
              "       'Normal', 'High', 'High', 'Normal', 'High', 'Normal', 'Normal',\n",
              "       'High', 'High', 'Normal', 'Normal', 'Normal', 'High', 'Normal',\n",
              "       'Normal', 'High', 'Normal', 'Normal', 'High', 'Normal', 'Normal',\n",
              "       'High', 'Very-High', 'Normal', 'High', 'High', 'High', 'Normal',\n",
              "       'Normal', 'Normal', 'Normal', 'High', 'Normal', 'Normal', 'Normal',\n",
              "       'Normal', 'Normal', 'High', 'Normal', 'Normal', 'High', 'High',\n",
              "       'High', 'Normal', 'High', 'Normal', 'Normal', 'High', 'Normal',\n",
              "       'High', 'High', 'High', 'High', 'Normal', 'High', 'High',\n",
              "       'Very-High', 'Normal', 'Normal', 'High', 'High', 'High', 'Normal',\n",
              "       'High', 'Normal', 'Very-High', 'Low', 'Normal', 'High', 'Low',\n",
              "       'Very-High', 'Normal', 'Normal', 'Normal', 'High', 'High', 'Low',\n",
              "       'Very-High', 'Normal', 'Low', 'Low', 'Normal', 'Low', 'Very-High',\n",
              "       'Normal', 'Very-High', 'High', 'Normal', 'Normal', 'Low', 'Normal',\n",
              "       'High', 'High', 'Very-High', 'High', 'High', 'High', 'Normal',\n",
              "       'Normal'], dtype=object)"
            ]
          },
          "metadata": {},
          "execution_count": 31
        }
      ]
    },
    {
      "cell_type": "markdown",
      "source": [
        "SEKIAN TERIMA KASIH"
      ],
      "metadata": {
        "id": "p35JSipxVLDL"
      }
    }
  ]
}