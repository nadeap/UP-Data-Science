{
 "cells": [
  {
   "cell_type": "markdown",
   "id": "02f3b53e",
   "metadata": {},
   "source": [
    "# Perbandingan Algoritma KNN, Naive Bayes dan DTree Pada Klasifikasi Jenis IPM"
   ]
  },
  {
   "cell_type": "markdown",
   "id": "0899fcb6",
   "metadata": {},
   "source": [
    "### Ujian Praktek Data Science\n",
    "\n",
    "Nama : Nadea Putri Nur Fauzi\n",
    "\n",
    "Kelas : Ular\n",
    "\n",
    "Program : AI Mastery \n",
    "\n",
    "Company : Orbit Future Academy"
   ]
  },
  {
   "cell_type": "markdown",
   "id": "ca89099a",
   "metadata": {},
   "source": [
    "Dataset : lpm.csv (Sumber : Orbit Future Academy) - Data Skunder\n",
    "\n",
    "Algoritma Project : KNN, Naive Bayes & Decision Tree\n",
    "\n",
    "Sumber : \n",
    "\n",
    "https://www.statmat.net/indeks-pembangunan-manusia-ipm/ \n",
    "\n",
    "Dataset : https://ptorbitventurainodnesia-my.sharepoint.com/:x:/g/personal/admin_content_orbitfutureacademy_sch_id/ERZwvIbz2LBDnw1uSbE1wIABWOw6kf9yzGlvBQYyvzYO6Q?rtime=Wac08POT2kg"
   ]
  },
  {
   "cell_type": "markdown",
   "id": "e775cd77",
   "metadata": {},
   "source": [
    "### Step 1 ( Problem Scooping)"
   ]
  },
  {
   "cell_type": "markdown",
   "id": "b44cf049",
   "metadata": {},
   "source": [
    "Indeks Pembangunan Manusia (IPM) menggambarkan 3 dimensi kehidupan manusia yaitu peluang hidup (longevity), pengetahuan (knowledge), dan standar hidup layak (decent living standard).\n",
    "\n",
    "Indeks Pembangunan Manusia (IPM) biasa disebut indeks komposit. Indeks komposit merupakan sebuah indeks yang disusun oleh indeks-indeks lain seperti indeks pendidikan, indeks harapan hidup dan indeks pendapatan.\n",
    "\n",
    "Di Indonesia, IPM ini dianalisis oleh Badan Pusat Statistika (BPS) dan dari data IPM ini pemerintah bisa mengambil keputusan dan kebijakan untuk pembangunan yang lebih baik kedepannya.\n",
    "\n",
    "Indeks Pembangunan Manusia (IPM) bisa dipengaruhi oleh beberapa faktor seperti:\n",
    "\n",
    "- Harapan lama sekolah\n",
    "\n",
    "- Pengeluaran perkapita\n",
    "\n",
    "- Rerata lama sekolah\n",
    "\n",
    "- Usia harapan hidup\n",
    "\n",
    "Dari 4 faktor tersebut, kita dapat mengelompokkan ke beberapa jenis IPM yaitu Very High, High, Normal dan Low.\n",
    "\n",
    "Project ini akan mengklasifikasikan dataset menggunakan Algoritma Machine Learning yaitu K-Neirest Neighbors, Decision Tree Classifier dan Naive Bayes Classifier. Setelah pemodelan maka akan dilakukan prediksi terhadap data baru, sehingga model akan otomatis memprediksi jenis kelas IPM data yang diinputkan."
   ]
  },
  {
   "cell_type": "markdown",
   "id": "a1b1cb3c",
   "metadata": {},
   "source": [
    "Rumusan Masalah:\n",
    "\n",
    "H0 : Jenis IPM tidak dipengaruhi oleh harapan lama sekolah, pengeluaran perkapita, rerata lama sekolah dan usia harapan hidup.\n",
    "\n",
    "H1 : Jenis IPM dipengaruhi oleh harapan lama sekolah, pengeluaran perkapita, rerata lama sekolah dan usia harapan hidup."
   ]
  },
  {
   "cell_type": "markdown",
   "id": "4e63b19f",
   "metadata": {},
   "source": [
    "### Step 2 (Data Acquisition)"
   ]
  },
  {
   "cell_type": "markdown",
   "id": "afd9c518",
   "metadata": {},
   "source": [
    "Data yang digunakan pada project ini adalah data IPM yang disediakan oleh Orbit Future Academy. Data berformat csv."
   ]
  },
  {
   "cell_type": "code",
   "execution_count": 1,
   "id": "3b19ab4c",
   "metadata": {},
   "outputs": [],
   "source": [
    "#Import Library\n",
    "import pandas as pd\n",
    "import numpy as np\n",
    "import matplotlib.pyplot as plt\n",
    "import seaborn as sns"
   ]
  },
  {
   "cell_type": "code",
   "execution_count": 2,
   "id": "79c0af42",
   "metadata": {},
   "outputs": [
    {
     "data": {
      "text/html": [
       "<div>\n",
       "<style scoped>\n",
       "    .dataframe tbody tr th:only-of-type {\n",
       "        vertical-align: middle;\n",
       "    }\n",
       "\n",
       "    .dataframe tbody tr th {\n",
       "        vertical-align: top;\n",
       "    }\n",
       "\n",
       "    .dataframe thead th {\n",
       "        text-align: right;\n",
       "    }\n",
       "</style>\n",
       "<table border=\"1\" class=\"dataframe\">\n",
       "  <thead>\n",
       "    <tr style=\"text-align: right;\">\n",
       "      <th></th>\n",
       "      <th>Harapan_Lama_Sekolah</th>\n",
       "      <th>Pengeluaran_Perkapita</th>\n",
       "      <th>Rerata_Lama_Sekolah</th>\n",
       "      <th>Usia_Harapan_Hidup</th>\n",
       "      <th>IPM</th>\n",
       "    </tr>\n",
       "  </thead>\n",
       "  <tbody>\n",
       "    <tr>\n",
       "      <th>0</th>\n",
       "      <td>14.36</td>\n",
       "      <td>9572</td>\n",
       "      <td>9.37</td>\n",
       "      <td>69.96</td>\n",
       "      <td>High</td>\n",
       "    </tr>\n",
       "    <tr>\n",
       "      <th>1</th>\n",
       "      <td>13.90</td>\n",
       "      <td>7148</td>\n",
       "      <td>9.48</td>\n",
       "      <td>65.28</td>\n",
       "      <td>Normal</td>\n",
       "    </tr>\n",
       "    <tr>\n",
       "      <th>2</th>\n",
       "      <td>14.32</td>\n",
       "      <td>8776</td>\n",
       "      <td>8.68</td>\n",
       "      <td>67.43</td>\n",
       "      <td>Normal</td>\n",
       "    </tr>\n",
       "    <tr>\n",
       "      <th>3</th>\n",
       "      <td>14.60</td>\n",
       "      <td>8180</td>\n",
       "      <td>8.88</td>\n",
       "      <td>64.40</td>\n",
       "      <td>Normal</td>\n",
       "    </tr>\n",
       "    <tr>\n",
       "      <th>4</th>\n",
       "      <td>14.01</td>\n",
       "      <td>8030</td>\n",
       "      <td>9.67</td>\n",
       "      <td>68.22</td>\n",
       "      <td>Normal</td>\n",
       "    </tr>\n",
       "  </tbody>\n",
       "</table>\n",
       "</div>"
      ],
      "text/plain": [
       "   Harapan_Lama_Sekolah  Pengeluaran_Perkapita  Rerata_Lama_Sekolah  \\\n",
       "0                 14.36                   9572                 9.37   \n",
       "1                 13.90                   7148                 9.48   \n",
       "2                 14.32                   8776                 8.68   \n",
       "3                 14.60                   8180                 8.88   \n",
       "4                 14.01                   8030                 9.67   \n",
       "\n",
       "   Usia_Harapan_Hidup     IPM  \n",
       "0               69.96    High  \n",
       "1               65.28  Normal  \n",
       "2               67.43  Normal  \n",
       "3               64.40  Normal  \n",
       "4               68.22  Normal  "
      ]
     },
     "execution_count": 2,
     "metadata": {},
     "output_type": "execute_result"
    }
   ],
   "source": [
    "#Open Dataset\n",
    "data = pd.read_csv('ipm.csv')\n",
    "data.head()"
   ]
  },
  {
   "cell_type": "markdown",
   "id": "0d8438c1",
   "metadata": {},
   "source": [
    "### Step 3 (Data Exploration)"
   ]
  },
  {
   "cell_type": "markdown",
   "id": "d8f2e73f",
   "metadata": {},
   "source": [
    "Pada tahap ini akan dilakukan Exploratory Data Analysis (EDA), pencarian informasi-informasi penting dan membuat dataset siap dan layak untuk dilakukan pemodelan Machine Learning."
   ]
  },
  {
   "cell_type": "code",
   "execution_count": 3,
   "id": "fc5e2530",
   "metadata": {},
   "outputs": [
    {
     "data": {
      "text/plain": [
       "(2196, 5)"
      ]
     },
     "execution_count": 3,
     "metadata": {},
     "output_type": "execute_result"
    }
   ],
   "source": [
    "#Melihat ukuran data\n",
    "data.shape"
   ]
  },
  {
   "cell_type": "code",
   "execution_count": 4,
   "id": "86411ce2",
   "metadata": {},
   "outputs": [
    {
     "name": "stdout",
     "output_type": "stream",
     "text": [
      "<class 'pandas.core.frame.DataFrame'>\n",
      "RangeIndex: 2196 entries, 0 to 2195\n",
      "Data columns (total 5 columns):\n",
      " #   Column                 Non-Null Count  Dtype  \n",
      "---  ------                 --------------  -----  \n",
      " 0   Harapan_Lama_Sekolah   2196 non-null   float64\n",
      " 1   Pengeluaran_Perkapita  2196 non-null   int64  \n",
      " 2   Rerata_Lama_Sekolah    2196 non-null   float64\n",
      " 3   Usia_Harapan_Hidup     2196 non-null   float64\n",
      " 4   IPM                    2196 non-null   object \n",
      "dtypes: float64(3), int64(1), object(1)\n",
      "memory usage: 85.9+ KB\n"
     ]
    }
   ],
   "source": [
    "#Melihat informasi dataset\n",
    "data.info()"
   ]
  },
  {
   "cell_type": "code",
   "execution_count": 5,
   "id": "efcea6be",
   "metadata": {},
   "outputs": [
    {
     "data": {
      "text/plain": [
       "Harapan_Lama_Sekolah     0\n",
       "Pengeluaran_Perkapita    0\n",
       "Rerata_Lama_Sekolah      0\n",
       "Usia_Harapan_Hidup       0\n",
       "IPM                      0\n",
       "dtype: int64"
      ]
     },
     "execution_count": 5,
     "metadata": {},
     "output_type": "execute_result"
    }
   ],
   "source": [
    "#Melihat Jumlah Nilai Null dalam data\n",
    "data.isnull().sum()"
   ]
  },
  {
   "cell_type": "code",
   "execution_count": 6,
   "id": "b1e027d2",
   "metadata": {},
   "outputs": [
    {
     "data": {
      "text/html": [
       "<div>\n",
       "<style scoped>\n",
       "    .dataframe tbody tr th:only-of-type {\n",
       "        vertical-align: middle;\n",
       "    }\n",
       "\n",
       "    .dataframe tbody tr th {\n",
       "        vertical-align: top;\n",
       "    }\n",
       "\n",
       "    .dataframe thead th {\n",
       "        text-align: right;\n",
       "    }\n",
       "</style>\n",
       "<table border=\"1\" class=\"dataframe\">\n",
       "  <thead>\n",
       "    <tr style=\"text-align: right;\">\n",
       "      <th></th>\n",
       "      <th>Harapan_Lama_Sekolah</th>\n",
       "      <th>Pengeluaran_Perkapita</th>\n",
       "      <th>Rerata_Lama_Sekolah</th>\n",
       "      <th>Usia_Harapan_Hidup</th>\n",
       "    </tr>\n",
       "  </thead>\n",
       "  <tbody>\n",
       "    <tr>\n",
       "      <th>count</th>\n",
       "      <td>2196.000000</td>\n",
       "      <td>2196.000000</td>\n",
       "      <td>2196.000000</td>\n",
       "      <td>2196.000000</td>\n",
       "    </tr>\n",
       "    <tr>\n",
       "      <th>mean</th>\n",
       "      <td>12.931498</td>\n",
       "      <td>10323.144353</td>\n",
       "      <td>8.291585</td>\n",
       "      <td>69.467418</td>\n",
       "    </tr>\n",
       "    <tr>\n",
       "      <th>std</th>\n",
       "      <td>1.312967</td>\n",
       "      <td>2664.738311</td>\n",
       "      <td>1.611256</td>\n",
       "      <td>3.437536</td>\n",
       "    </tr>\n",
       "    <tr>\n",
       "      <th>min</th>\n",
       "      <td>2.950000</td>\n",
       "      <td>3975.000000</td>\n",
       "      <td>0.850000</td>\n",
       "      <td>54.820000</td>\n",
       "    </tr>\n",
       "    <tr>\n",
       "      <th>25%</th>\n",
       "      <td>12.350000</td>\n",
       "      <td>8599.750000</td>\n",
       "      <td>7.390000</td>\n",
       "      <td>67.210000</td>\n",
       "    </tr>\n",
       "    <tr>\n",
       "      <th>50%</th>\n",
       "      <td>12.860000</td>\n",
       "      <td>10192.500000</td>\n",
       "      <td>8.180000</td>\n",
       "      <td>69.785000</td>\n",
       "    </tr>\n",
       "    <tr>\n",
       "      <th>75%</th>\n",
       "      <td>13.570000</td>\n",
       "      <td>11670.500000</td>\n",
       "      <td>9.180000</td>\n",
       "      <td>71.712500</td>\n",
       "    </tr>\n",
       "    <tr>\n",
       "      <th>max</th>\n",
       "      <td>17.800000</td>\n",
       "      <td>23888.000000</td>\n",
       "      <td>12.830000</td>\n",
       "      <td>77.730000</td>\n",
       "    </tr>\n",
       "  </tbody>\n",
       "</table>\n",
       "</div>"
      ],
      "text/plain": [
       "       Harapan_Lama_Sekolah  Pengeluaran_Perkapita  Rerata_Lama_Sekolah  \\\n",
       "count           2196.000000            2196.000000          2196.000000   \n",
       "mean              12.931498           10323.144353             8.291585   \n",
       "std                1.312967            2664.738311             1.611256   \n",
       "min                2.950000            3975.000000             0.850000   \n",
       "25%               12.350000            8599.750000             7.390000   \n",
       "50%               12.860000           10192.500000             8.180000   \n",
       "75%               13.570000           11670.500000             9.180000   \n",
       "max               17.800000           23888.000000            12.830000   \n",
       "\n",
       "       Usia_Harapan_Hidup  \n",
       "count         2196.000000  \n",
       "mean            69.467418  \n",
       "std              3.437536  \n",
       "min             54.820000  \n",
       "25%             67.210000  \n",
       "50%             69.785000  \n",
       "75%             71.712500  \n",
       "max             77.730000  "
      ]
     },
     "execution_count": 6,
     "metadata": {},
     "output_type": "execute_result"
    }
   ],
   "source": [
    "#Melihat deskriptif statistik dataset\n",
    "data.describe()"
   ]
  },
  {
   "cell_type": "markdown",
   "id": "dd8099ba",
   "metadata": {},
   "source": [
    "Kolom IPM"
   ]
  },
  {
   "cell_type": "code",
   "execution_count": 8,
   "id": "50fad5dc",
   "metadata": {},
   "outputs": [
    {
     "data": {
      "text/plain": [
       "Normal       1128\n",
       "High          829\n",
       "Very-High     146\n",
       "Low            93\n",
       "Name: IPM, dtype: int64"
      ]
     },
     "execution_count": 8,
     "metadata": {},
     "output_type": "execute_result"
    }
   ],
   "source": [
    "#Melihat jumlah data dalam kolom IPM\n",
    "data['IPM'].value_counts()"
   ]
  },
  {
   "cell_type": "markdown",
   "id": "8b2d172c",
   "metadata": {},
   "source": [
    "Korelasi Data"
   ]
  },
  {
   "cell_type": "code",
   "execution_count": 9,
   "id": "96ae9277",
   "metadata": {},
   "outputs": [
    {
     "name": "stderr",
     "output_type": "stream",
     "text": [
      "C:\\Users\\HP\\AppData\\Local\\Temp\\ipykernel_13596\\2578434383.py:1: FutureWarning: The default value of numeric_only in DataFrame.corr is deprecated. In a future version, it will default to False. Select only valid columns or specify the value of numeric_only to silence this warning.\n",
      "  sns.heatmap(data.corr(),annot=True)\n"
     ]
    },
    {
     "data": {
      "text/plain": [
       "<AxesSubplot: >"
      ]
     },
     "execution_count": 9,
     "metadata": {},
     "output_type": "execute_result"
    },
    {
     "data": {
      "image/png": "[encoded data removed]",
      "text/plain": [
       "<Figure size 640x480 with 2 Axes>"
      ]
     },
     "metadata": {},
     "output_type": "display_data"
    }
   ],
   "source": [
    "sns.heatmap(data.corr(),annot=True)"
   ]
  },
  {
   "cell_type": "markdown",
   "id": "75a11ebe",
   "metadata": {},
   "source": [
    "Declire Dataset"
   ]
  },
  {
   "cell_type": "code",
   "execution_count": 10,
   "id": "51bd5110",
   "metadata": {},
   "outputs": [],
   "source": [
    "x = data.drop(['IPM'],axis=True)\n",
    "y = data['IPM']"
   ]
  },
  {
   "cell_type": "code",
   "execution_count": 11,
   "id": "be8f055d",
   "metadata": {},
   "outputs": [
    {
     "data": {
      "text/html": [
       "<div>\n",
       "<style scoped>\n",
       "    .dataframe tbody tr th:only-of-type {\n",
       "        vertical-align: middle;\n",
       "    }\n",
       "\n",
       "    .dataframe tbody tr th {\n",
       "        vertical-align: top;\n",
       "    }\n",
       "\n",
       "    .dataframe thead th {\n",
       "        text-align: right;\n",
       "    }\n",
       "</style>\n",
       "<table border=\"1\" class=\"dataframe\">\n",
       "  <thead>\n",
       "    <tr style=\"text-align: right;\">\n",
       "      <th></th>\n",
       "      <th>Harapan_Lama_Sekolah</th>\n",
       "      <th>Pengeluaran_Perkapita</th>\n",
       "      <th>Rerata_Lama_Sekolah</th>\n",
       "      <th>Usia_Harapan_Hidup</th>\n",
       "    </tr>\n",
       "  </thead>\n",
       "  <tbody>\n",
       "    <tr>\n",
       "      <th>0</th>\n",
       "      <td>14.36</td>\n",
       "      <td>9572</td>\n",
       "      <td>9.37</td>\n",
       "      <td>69.96</td>\n",
       "    </tr>\n",
       "    <tr>\n",
       "      <th>1</th>\n",
       "      <td>13.90</td>\n",
       "      <td>7148</td>\n",
       "      <td>9.48</td>\n",
       "      <td>65.28</td>\n",
       "    </tr>\n",
       "    <tr>\n",
       "      <th>2</th>\n",
       "      <td>14.32</td>\n",
       "      <td>8776</td>\n",
       "      <td>8.68</td>\n",
       "      <td>67.43</td>\n",
       "    </tr>\n",
       "    <tr>\n",
       "      <th>3</th>\n",
       "      <td>14.60</td>\n",
       "      <td>8180</td>\n",
       "      <td>8.88</td>\n",
       "      <td>64.40</td>\n",
       "    </tr>\n",
       "    <tr>\n",
       "      <th>4</th>\n",
       "      <td>14.01</td>\n",
       "      <td>8030</td>\n",
       "      <td>9.67</td>\n",
       "      <td>68.22</td>\n",
       "    </tr>\n",
       "  </tbody>\n",
       "</table>\n",
       "</div>"
      ],
      "text/plain": [
       "   Harapan_Lama_Sekolah  Pengeluaran_Perkapita  Rerata_Lama_Sekolah  \\\n",
       "0                 14.36                   9572                 9.37   \n",
       "1                 13.90                   7148                 9.48   \n",
       "2                 14.32                   8776                 8.68   \n",
       "3                 14.60                   8180                 8.88   \n",
       "4                 14.01                   8030                 9.67   \n",
       "\n",
       "   Usia_Harapan_Hidup  \n",
       "0               69.96  \n",
       "1               65.28  \n",
       "2               67.43  \n",
       "3               64.40  \n",
       "4               68.22  "
      ]
     },
     "execution_count": 11,
     "metadata": {},
     "output_type": "execute_result"
    }
   ],
   "source": [
    "x.head()"
   ]
  },
  {
   "cell_type": "code",
   "execution_count": 12,
   "id": "c64b907a",
   "metadata": {},
   "outputs": [
    {
     "data": {
      "text/plain": [
       "0      High\n",
       "1    Normal\n",
       "2    Normal\n",
       "3    Normal\n",
       "4    Normal\n",
       "Name: IPM, dtype: object"
      ]
     },
     "execution_count": 12,
     "metadata": {},
     "output_type": "execute_result"
    }
   ],
   "source": [
    "y.head()"
   ]
  },
  {
   "cell_type": "markdown",
   "id": "7f72bbb3",
   "metadata": {},
   "source": [
    "Split Dataset (Training & Testing)"
   ]
  },
  {
   "cell_type": "code",
   "execution_count": 13,
   "id": "3ac1a873",
   "metadata": {},
   "outputs": [],
   "source": [
    "from sklearn.model_selection import train_test_split\n",
    "\n",
    "#Menggunakan perbandingan 75%:25% dan random state=0\n",
    "x_train, x_test, y_train, y_test = train_test_split(x, y, test_size = 0.25, random_state = 42)"
   ]
  },
  {
   "cell_type": "code",
   "execution_count": 14,
   "id": "a65c0b57",
   "metadata": {},
   "outputs": [
    {
     "data": {
      "text/plain": [
       "((1647, 4), (549, 4))"
      ]
     },
     "execution_count": 14,
     "metadata": {},
     "output_type": "execute_result"
    }
   ],
   "source": [
    "#Melihat ukuran x_train dan x_test\n",
    "x_train.shape, x_test.shape"
   ]
  },
  {
   "cell_type": "markdown",
   "id": "93563f43",
   "metadata": {},
   "source": [
    "### Step 4 (Modelling)"
   ]
  },
  {
   "cell_type": "markdown",
   "id": "6e988c94",
   "metadata": {},
   "source": [
    "KNN Algorithm"
   ]
  },
  {
   "cell_type": "code",
   "execution_count": 15,
   "id": "a29669d3",
   "metadata": {},
   "outputs": [],
   "source": [
    "#Import library KNN dan CF\n",
    "from sklearn.neighbors import KNeighborsClassifier\n",
    "from sklearn import metrics\n",
    "from sklearn.metrics import confusion_matrix"
   ]
  },
  {
   "cell_type": "code",
   "execution_count": 16,
   "id": "c10ddf81",
   "metadata": {},
   "outputs": [],
   "source": [
    "knn = KNeighborsClassifier() #auto 5\n",
    "knn.fit(x_train, y_train)\n",
    "y_pred = knn.predict(x_test)"
   ]
  },
  {
   "cell_type": "code",
   "execution_count": 17,
   "id": "08d71f33",
   "metadata": {},
   "outputs": [
    {
     "name": "stdout",
     "output_type": "stream",
     "text": [
      "Akurasi =  0.7868852459016393\n"
     ]
    }
   ],
   "source": [
    "#Akutasi model\n",
    "score = metrics.accuracy_score(y_test, y_pred)\n",
    "print('Akurasi = ',score)"
   ]
  },
  {
   "cell_type": "code",
   "execution_count": 18,
   "id": "1f78951d",
   "metadata": {},
   "outputs": [
    {
     "name": "stdout",
     "output_type": "stream",
     "text": [
      "Training set score: 0.8506\n",
      "Test set score: 0.7869\n"
     ]
    }
   ],
   "source": [
    "#Hasil Akurasi Training dan Testing\n",
    "print('Training set score: {:.4f}'.format(knn.score(x_train, y_train)))\n",
    "print('Test set score: {:.4f}'.format(knn.score(x_test, y_test)))"
   ]
  },
  {
   "cell_type": "code",
   "execution_count": 19,
   "id": "9ec35251",
   "metadata": {},
   "outputs": [
    {
     "name": "stdout",
     "output_type": "stream",
     "text": [
      "              precision    recall  f1-score   support\n",
      "\n",
      "        High       0.73      0.75      0.74       208\n",
      "         Low       1.00      0.67      0.80        24\n",
      "      Normal       0.82      0.82      0.82       276\n",
      "   Very-High       0.77      0.83      0.80        41\n",
      "\n",
      "    accuracy                           0.79       549\n",
      "   macro avg       0.83      0.77      0.79       549\n",
      "weighted avg       0.79      0.79      0.79       549\n",
      "\n"
     ]
    }
   ],
   "source": [
    "#Classification Report model\n",
    "from sklearn.metrics import classification_report\n",
    "confusion_matrix(y_test, y_pred) \n",
    "print(classification_report(y_test, y_pred))"
   ]
  },
  {
   "cell_type": "markdown",
   "id": "85d9d266",
   "metadata": {},
   "source": [
    "Decision Tree Algoirithm"
   ]
  },
  {
   "cell_type": "code",
   "execution_count": 20,
   "id": "1ec047c3",
   "metadata": {},
   "outputs": [
    {
     "name": "stdout",
     "output_type": "stream",
     "text": [
      "Hasil Training model untuk max_depth 1 adalah : 0.7413479052823315\n",
      "Hasil Testing model untuk max_depth 1 adalah : 0.7285974499089253\n",
      "\n",
      "Hasil Training model untuk max_depth 2 adalah : 0.8142076502732241\n",
      "Hasil Testing model untuk max_depth 2 adalah : 0.8014571948998178\n",
      "\n",
      "Hasil Training model untuk max_depth 3 adalah : 0.8482088646023073\n",
      "Hasil Testing model untuk max_depth 3 adalah : 0.825136612021858\n",
      "\n",
      "Hasil Training model untuk max_depth 4 adalah : 0.9040680024286581\n",
      "Hasil Testing model untuk max_depth 4 adalah : 0.8652094717668488\n",
      "\n",
      "Hasil Training model untuk max_depth 5 adalah : 0.9247115968427444\n",
      "Hasil Testing model untuk max_depth 5 adalah : 0.9016393442622951\n",
      "\n",
      "Hasil Training model untuk max_depth 6 adalah : 0.9562841530054644\n",
      "Hasil Testing model untuk max_depth 6 adalah : 0.907103825136612\n",
      "\n",
      "Hasil Training model untuk max_depth 7 adalah : 0.9684274438372799\n",
      "Hasil Testing model untuk max_depth 7 adalah : 0.9344262295081968\n",
      "\n",
      "Hasil Training model untuk max_depth 8 adalah : 0.9781420765027322\n",
      "Hasil Testing model untuk max_depth 8 adalah : 0.9344262295081968\n",
      "\n",
      "Hasil Training model untuk max_depth 9 adalah : 0.9908925318761385\n",
      "Hasil Testing model untuk max_depth 9 adalah : 0.9453551912568307\n",
      "\n"
     ]
    }
   ],
   "source": [
    "#Melihat nilai max-depth yang paling optimal\n",
    "from sklearn.tree import DecisionTreeClassifier\n",
    "for max_d in range(1,10):\n",
    "  model = DecisionTreeClassifier(max_depth=max_d, random_state=42)\n",
    "  model.fit(x_train, y_train)\n",
    "  print('Hasil Training model untuk max_depth {} adalah :'.format(max_d), model.score(x_train,y_train))\n",
    "  print('Hasil Testing model untuk max_depth {} adalah :'.format(max_d), model.score(x_test,y_test))\n",
    "  print('')"
   ]
  },
  {
   "cell_type": "code",
   "execution_count": 21,
   "id": "25939431",
   "metadata": {},
   "outputs": [
    {
     "data": {
      "text/html": [
       "<style>#sk-container-id-1 {color: black;background-color: white;}#sk-container-id-1 pre{padding: 0;}#sk-container-id-1 div.sk-toggleable {background-color: white;}#sk-container-id-1 label.sk-toggleable__label {cursor: pointer;display: block;width: 100%;margin-bottom: 0;padding: 0.3em;box-sizing: border-box;text-align: center;}#sk-container-id-1 label.sk-toggleable__label-arrow:before {content: \"▸\";float: left;margin-right: 0.25em;color: #696969;}#sk-container-id-1 label.sk-toggleable__label-arrow:hover:before {color: black;}#sk-container-id-1 div.sk-estimator:hover label.sk-toggleable__label-arrow:before {color: black;}#sk-container-id-1 div.sk-toggleable__content {max-height: 0;max-width: 0;overflow: hidden;text-align: left;background-color: #f0f8ff;}#sk-container-id-1 div.sk-toggleable__content pre {margin: 0.2em;color: black;border-radius: 0.25em;background-color: #f0f8ff;}#sk-container-id-1 input.sk-toggleable__control:checked~div.sk-toggleable__content {max-height: 200px;max-width: 100%;overflow: auto;}#sk-container-id-1 input.sk-toggleable__control:checked~label.sk-toggleable__label-arrow:before {content: \"▾\";}#sk-container-id-1 div.sk-estimator input.sk-toggleable__control:checked~label.sk-toggleable__label {background-color: #d4ebff;}#sk-container-id-1 div.sk-label input.sk-toggleable__control:checked~label.sk-toggleable__label {background-color: #d4ebff;}#sk-container-id-1 input.sk-hidden--visually {border: 0;clip: rect(1px 1px 1px 1px);clip: rect(1px, 1px, 1px, 1px);height: 1px;margin: -1px;overflow: hidden;padding: 0;position: absolute;width: 1px;}#sk-container-id-1 div.sk-estimator {font-family: monospace;background-color: #f0f8ff;border: 1px dotted black;border-radius: 0.25em;box-sizing: border-box;margin-bottom: 0.5em;}#sk-container-id-1 div.sk-estimator:hover {background-color: #d4ebff;}#sk-container-id-1 div.sk-parallel-item::after {content: \"\";width: 100%;border-bottom: 1px solid gray;flex-grow: 1;}#sk-container-id-1 div.sk-label:hover label.sk-toggleable__label {background-color: #d4ebff;}#sk-container-id-1 div.sk-serial::before {content: \"\";position: absolute;border-left: 1px solid gray;box-sizing: border-box;top: 0;bottom: 0;left: 50%;z-index: 0;}#sk-container-id-1 div.sk-serial {display: flex;flex-direction: column;align-items: center;background-color: white;padding-right: 0.2em;padding-left: 0.2em;position: relative;}#sk-container-id-1 div.sk-item {position: relative;z-index: 1;}#sk-container-id-1 div.sk-parallel {display: flex;align-items: stretch;justify-content: center;background-color: white;position: relative;}#sk-container-id-1 div.sk-item::before, #sk-container-id-1 div.sk-parallel-item::before {content: \"\";position: absolute;border-left: 1px solid gray;box-sizing: border-box;top: 0;bottom: 0;left: 50%;z-index: -1;}#sk-container-id-1 div.sk-parallel-item {display: flex;flex-direction: column;z-index: 1;position: relative;background-color: white;}#sk-container-id-1 div.sk-parallel-item:first-child::after {align-self: flex-end;width: 50%;}#sk-container-id-1 div.sk-parallel-item:last-child::after {align-self: flex-start;width: 50%;}#sk-container-id-1 div.sk-parallel-item:only-child::after {width: 0;}#sk-container-id-1 div.sk-dashed-wrapped {border: 1px dashed gray;margin: 0 0.4em 0.5em 0.4em;box-sizing: border-box;padding-bottom: 0.4em;background-color: white;}#sk-container-id-1 div.sk-label label {font-family: monospace;font-weight: bold;display: inline-block;line-height: 1.2em;}#sk-container-id-1 div.sk-label-container {text-align: center;}#sk-container-id-1 div.sk-container {/* jupyter's `normalize.less` sets `[hidden] { display: none; }` but bootstrap.min.css set `[hidden] { display: none !important; }` so we also need the `!important` here to be able to override the default hidden behavior on the sphinx rendered scikit-learn.org. See: https://github.com/scikit-learn/scikit-learn/issues/21755 */display: inline-block !important;position: relative;}#sk-container-id-1 div.sk-text-repr-fallback {display: none;}</style><div id=\"sk-container-id-1\" class=\"sk-top-container\"><div class=\"sk-text-repr-fallback\"><pre>DecisionTreeClassifier(max_depth=5, random_state=42)</pre><b>In a Jupyter environment, please rerun this cell to show the HTML representation or trust the notebook. <br />On GitHub, the HTML representation is unable to render, please try loading this page with nbviewer.org.</b></div><div class=\"sk-container\" hidden><div class=\"sk-item\"><div class=\"sk-estimator sk-toggleable\"><input class=\"sk-toggleable__control sk-hidden--visually\" id=\"sk-estimator-id-1\" type=\"checkbox\" checked><label for=\"sk-estimator-id-1\" class=\"sk-toggleable__label sk-toggleable__label-arrow\">DecisionTreeClassifier</label><div class=\"sk-toggleable__content\"><pre>DecisionTreeClassifier(max_depth=5, random_state=42)</pre></div></div></div></div></div>"
      ],
      "text/plain": [
       "DecisionTreeClassifier(max_depth=5, random_state=42)"
      ]
     },
     "execution_count": 21,
     "metadata": {},
     "output_type": "execute_result"
    }
   ],
   "source": [
    "#pemodelan DTREE\n",
    "from sklearn.tree import DecisionTreeClassifier\n",
    "\n",
    "modelGini = DecisionTreeClassifier(criterion='gini', max_depth=5, random_state=42)\n",
    "modelGini.fit(x_train, y_train)"
   ]
  },
  {
   "cell_type": "code",
   "execution_count": 22,
   "id": "677a073f",
   "metadata": {},
   "outputs": [],
   "source": [
    "y_pred_gini = modelGini.predict(x_test)"
   ]
  },
  {
   "cell_type": "code",
   "execution_count": 23,
   "id": "33d5b068",
   "metadata": {},
   "outputs": [
    {
     "name": "stdout",
     "output_type": "stream",
     "text": [
      "[[166   0  34   8]\n",
      " [  0  22   2   0]\n",
      " [  7   0 269   0]\n",
      " [  3   0   0  38]]\n"
     ]
    },
    {
     "data": {
      "text/plain": [
       "0.9016393442622951"
      ]
     },
     "execution_count": 23,
     "metadata": {},
     "output_type": "execute_result"
    }
   ],
   "source": [
    "#Confusion Matrix model DTREE\n",
    "from sklearn.metrics import confusion_matrix, accuracy_score\n",
    "cm = confusion_matrix(y_test, y_pred_gini)\n",
    "print(cm)\n",
    "accuracy_score(y_test, y_pred_gini)"
   ]
  },
  {
   "cell_type": "code",
   "execution_count": 24,
   "id": "deee71d3",
   "metadata": {},
   "outputs": [
    {
     "name": "stdout",
     "output_type": "stream",
     "text": [
      "Training set score: 0.9247\n",
      "Test set score: 0.9016\n"
     ]
    }
   ],
   "source": [
    "#Hasil Akurasi Training dan Testing\n",
    "print('Training set score: {:.4f}'.format(modelGini.score(x_train, y_train)))\n",
    "print('Test set score: {:.4f}'.format(modelGini.score(x_test, y_test)))"
   ]
  },
  {
   "cell_type": "code",
   "execution_count": 25,
   "id": "29de3ac9",
   "metadata": {},
   "outputs": [
    {
     "name": "stdout",
     "output_type": "stream",
     "text": [
      "              precision    recall  f1-score   support\n",
      "\n",
      "        High       0.94      0.80      0.86       208\n",
      "         Low       1.00      0.92      0.96        24\n",
      "      Normal       0.88      0.97      0.93       276\n",
      "   Very-High       0.83      0.93      0.87        41\n",
      "\n",
      "    accuracy                           0.90       549\n",
      "   macro avg       0.91      0.90      0.91       549\n",
      "weighted avg       0.91      0.90      0.90       549\n",
      "\n"
     ]
    }
   ],
   "source": [
    "#Classification Report model DTREE\n",
    "from sklearn.metrics import classification_report\n",
    "\n",
    "print(classification_report(y_test, y_pred_gini))"
   ]
  },
  {
   "cell_type": "markdown",
   "id": "c5fb0d85",
   "metadata": {},
   "source": [
    "Naive Bayes Algorithm"
   ]
  },
  {
   "cell_type": "code",
   "execution_count": 26,
   "id": "c875a3dc",
   "metadata": {},
   "outputs": [],
   "source": [
    "from sklearn.naive_bayes import MultinomialNB\n",
    "from sklearn.metrics import confusion_matrix\n",
    "from sklearn.metrics import classification_report"
   ]
  },
  {
   "cell_type": "code",
   "execution_count": 27,
   "id": "436cff48",
   "metadata": {},
   "outputs": [
    {
     "data": {
      "text/plain": [
       "array([[144,   0,  54,  10],\n",
       "       [  0,  18,   6,   0],\n",
       "       [ 69,   9, 198,   0],\n",
       "       [ 14,   0,   0,  27]], dtype=int64)"
      ]
     },
     "execution_count": 27,
     "metadata": {},
     "output_type": "execute_result"
    }
   ],
   "source": [
    "#Pemodelan Naive Bayes\n",
    "clf = MultinomialNB()\n",
    "clf.fit(x_train, y_train)\n",
    "y_pred = clf.predict(x_test)\n",
    "confusion_matrix(y_test, y_pred) "
   ]
  },
  {
   "cell_type": "code",
   "execution_count": 28,
   "id": "d189331d",
   "metadata": {},
   "outputs": [
    {
     "name": "stdout",
     "output_type": "stream",
     "text": [
      "Training set score: 0.7335\n",
      "Test set score: 0.7049\n"
     ]
    }
   ],
   "source": [
    "#Hasil Akurasi Training dan Testing\n",
    "print('Training set score: {:.4f}'.format(clf.score(x_train, y_train)))\n",
    "print('Test set score: {:.4f}'.format(clf.score(x_test, y_test)))"
   ]
  },
  {
   "cell_type": "code",
   "execution_count": 29,
   "id": "6c8b8fe9",
   "metadata": {},
   "outputs": [
    {
     "name": "stdout",
     "output_type": "stream",
     "text": [
      "              precision    recall  f1-score   support\n",
      "\n",
      "        High       0.63      0.69      0.66       208\n",
      "         Low       0.67      0.75      0.71        24\n",
      "      Normal       0.77      0.72      0.74       276\n",
      "   Very-High       0.73      0.66      0.69        41\n",
      "\n",
      "    accuracy                           0.70       549\n",
      "   macro avg       0.70      0.70      0.70       549\n",
      "weighted avg       0.71      0.70      0.71       549\n",
      "\n"
     ]
    }
   ],
   "source": [
    "print(classification_report(y_test, y_pred))"
   ]
  },
  {
   "cell_type": "markdown",
   "id": "36211e1f",
   "metadata": {},
   "source": [
    "### Step 5 (Evaluation)"
   ]
  },
  {
   "cell_type": "markdown",
   "id": "e206929d",
   "metadata": {},
   "source": [
    "Evaluasi model dilihat dari nilai Akurasi Training dan Testing, Confusion Matrix dan Classification Report"
   ]
  },
  {
   "attachments": {
    "image.png": {
     "image/png": "[encoded data removed]"
    }
   },
   "cell_type": "markdown",
   "id": "3b1e4e76",
   "metadata": {},
   "source": [
    "### K-Nearest Neighbors\n",
    "\n",
    "Akurasi Training : 85.06%\n",
    "\n",
    "Akurasi Testing : 78.69%\n",
    "\n",
    "![image.png](attachment:image.png)"
   ]
  },
  {
   "attachments": {
    "image.png": {
     "image/png": "[encoded data removed]"
    }
   },
   "cell_type": "markdown",
   "id": "cd4d43ab",
   "metadata": {},
   "source": [
    "### Decision Tree\n",
    "\n",
    "Akurasi Training : 92.47%\n",
    "\n",
    "Akurasi Testing : 90.16%\n",
    "\n",
    "![image.png](attachment:image.png)"
   ]
  },
  {
   "attachments": {
    "image.png": {
     "image/png": "[encoded data removed]"
    }
   },
   "cell_type": "markdown",
   "id": "3a4bf046",
   "metadata": {},
   "source": [
    "### Naive Bayes Classifier\n",
    "\n",
    "Akurasi Training : 73.35%\n",
    "\n",
    "Akurasi Testing : 70.49%\n",
    "\n",
    "![image.png](attachment:image.png)"
   ]
  },
  {
   "cell_type": "markdown",
   "id": "4740d793",
   "metadata": {},
   "source": [
    "Jadi model terbaik pada kasus ini adalah Decision Tree dengan kriteria gini dan maksimal kedalaman pohon = 5. "
   ]
  },
  {
   "cell_type": "markdown",
   "id": "57db3e7c",
   "metadata": {},
   "source": [
    "### Step 6 (Predict)"
   ]
  },
  {
   "cell_type": "code",
   "execution_count": 30,
   "id": "8dbfc5c1",
   "metadata": {},
   "outputs": [
    {
     "name": "stderr",
     "output_type": "stream",
     "text": [
      "c:\\Users\\HP\\AppData\\Local\\Programs\\Python\\Python310\\lib\\site-packages\\sklearn\\base.py:450: UserWarning: X does not have valid feature names, but DecisionTreeClassifier was fitted with feature names\n",
      "  warnings.warn(\n"
     ]
    },
    {
     "data": {
      "text/plain": [
       "array(['Normal'], dtype=object)"
      ]
     },
     "execution_count": 30,
     "metadata": {},
     "output_type": "execute_result"
    }
   ],
   "source": [
    "predict = modelGini.predict(np.array([[14.56,8765,8.34,64.34]]))\n",
    "predict"
   ]
  },
  {
   "cell_type": "markdown",
   "id": "174059f7",
   "metadata": {},
   "source": [
    "### Kesimpulan\n",
    "\n",
    "H0 ditolak / H1 diterima yang artinya Jenis IPM dipengaruhi oleh harapan lama sekolah, pengeluaran perkapita, rerata lama sekolah dan usia harapan hidup.\n",
    "\n",
    "Dari 4 faktor tersebut, model akan mengklasifikasikan data ke 4 jenis IPM. \n",
    "\n",
    "Dengan model Decision Tree ini juga, model dapat melakukan prediksi terhadap dataset baru dengan nilai akurasi sebesar 90.16%. \n",
    "\n",
    "Model Decision Tree juga tidak dikatakan overfitting dikarenakan perbedaan akurasi training dan testing tidak berbeda jauh."
   ]
  },
  {
   "cell_type": "code",
   "execution_count": 31,
   "id": "353c5e39",
   "metadata": {},
   "outputs": [],
   "source": [
    "#Save model\n",
    "import pickle\n",
    "pickle_out = open(\"model.pkl\", \"wb\")\n",
    "pickle.dump(modelGini, pickle_out)\n",
    "pickle_out.close()"
   ]
  },
  {
   "cell_type": "code",
   "execution_count": null,
   "id": "dc3c443e",
   "metadata": {},
   "outputs": [],
   "source": []
  }
 ],
 "metadata": {
  "kernelspec": {
   "display_name": "Python 3",
   "language": "python",
   "name": "python3"
  },
  "language_info": {
   "codemirror_mode": {
    "name": "ipython",
    "version": 3
   },
   "file_extension": ".py",
   "mimetype": "text/x-python",
   "name": "python",
   "nbconvert_exporter": "python",
   "pygments_lexer": "ipython3",
   "version": "3.10.8"
  },
  "vscode": {
   "interpreter": {
    "hash": "a9cff5a362bc38ef45d817ae74b1af54d6a076e3d773891282bce078b815ba34"
   }
  }
 },
 "nbformat": 4,
 "nbformat_minor": 5
}
